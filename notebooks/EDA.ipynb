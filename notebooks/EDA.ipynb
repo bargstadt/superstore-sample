{
 "cells": [
  {
   "cell_type": "code",
   "execution_count": 31,
   "id": "64370811-93c1-49bb-a18d-883bc0d05c08",
   "metadata": {},
   "outputs": [],
   "source": [
    "import pandas as pd\n",
    "from pyspark.sql import SparkSession\n",
    "spark = SparkSession \\\n",
    "    .builder \\\n",
    "    .appName(\"Getting Started\") \\\n",
    "    .getOrCreate()\n",
    "\n",
    "spark.conf.set('spark.sql.repl.eagerEval.enabled', True)"
   ]
  },
  {
   "cell_type": "code",
   "execution_count": 33,
   "id": "efc73ea2-1d5f-4526-ac0a-d55779ef470e",
   "metadata": {},
   "outputs": [],
   "source": [
    "df = pd.read_csv('./data/train.csv')"
   ]
  },
  {
   "cell_type": "code",
   "execution_count": 34,
   "id": "9bb462f0-f8e1-4796-9d8e-4440c1a19aa5",
   "metadata": {},
   "outputs": [],
   "source": [
    "sdf = spark.createDataFrame(df)"
   ]
  },
  {
   "cell_type": "code",
   "execution_count": 37,
   "id": "602dd18d-1962-44b0-8fad-8119e926e1a9",
   "metadata": {},
   "outputs": [
    {
     "name": "stderr",
     "output_type": "stream",
     "text": [
      "24/01/19 15:15:08 WARN TaskSetManager: Stage 7 contains a task of very large size (1302 KiB). The maximum recommended task size is 1000 KiB.\n",
      "24/01/19 15:15:08 WARN TaskSetManager: Stage 8 contains a task of very large size (1302 KiB). The maximum recommended task size is 1000 KiB.\n"
     ]
    },
    {
     "data": {
      "text/html": [
       "<table border='1'>\n",
       "<tr><th>Row ID</th><th>Order ID</th><th>Order Date</th><th>Ship Date</th><th>Ship Mode</th><th>Customer ID</th><th>Customer Name</th><th>Segment</th><th>Country</th><th>City</th><th>State</th><th>Postal Code</th><th>Region</th><th>Product ID</th><th>Category</th><th>Sub-Category</th><th>Product Name</th><th>Sales</th></tr>\n",
       "<tr><td>1</td><td>CA-2017-152156</td><td>08/11/2017</td><td>11/11/2017</td><td>Second Class</td><td>CG-12520</td><td>Claire Gute</td><td>Consumer</td><td>United States</td><td>Henderson</td><td>Kentucky</td><td>42420.0</td><td>South</td><td>FUR-BO-10001798</td><td>Furniture</td><td>Bookcases</td><td>Bush Somerset Col...</td><td>261.96</td></tr>\n",
       "<tr><td>2</td><td>CA-2017-152156</td><td>08/11/2017</td><td>11/11/2017</td><td>Second Class</td><td>CG-12520</td><td>Claire Gute</td><td>Consumer</td><td>United States</td><td>Henderson</td><td>Kentucky</td><td>42420.0</td><td>South</td><td>FUR-CH-10000454</td><td>Furniture</td><td>Chairs</td><td>Hon Deluxe Fabric...</td><td>731.94</td></tr>\n",
       "<tr><td>3</td><td>CA-2017-138688</td><td>12/06/2017</td><td>16/06/2017</td><td>Second Class</td><td>DV-13045</td><td>Darrin Van Huff</td><td>Corporate</td><td>United States</td><td>Los Angeles</td><td>California</td><td>90036.0</td><td>West</td><td>OFF-LA-10000240</td><td>Office Supplies</td><td>Labels</td><td>Self-Adhesive Add...</td><td>14.62</td></tr>\n",
       "<tr><td>4</td><td>US-2016-108966</td><td>11/10/2016</td><td>18/10/2016</td><td>Standard Class</td><td>SO-20335</td><td>Sean O'Donnell</td><td>Consumer</td><td>United States</td><td>Fort Lauderdale</td><td>Florida</td><td>33311.0</td><td>South</td><td>FUR-TA-10000577</td><td>Furniture</td><td>Tables</td><td>Bretford CR4500 S...</td><td>957.5775</td></tr>\n",
       "<tr><td>5</td><td>US-2016-108966</td><td>11/10/2016</td><td>18/10/2016</td><td>Standard Class</td><td>SO-20335</td><td>Sean O'Donnell</td><td>Consumer</td><td>United States</td><td>Fort Lauderdale</td><td>Florida</td><td>33311.0</td><td>South</td><td>OFF-ST-10000760</td><td>Office Supplies</td><td>Storage</td><td>Eldon Fold 'N Rol...</td><td>22.368</td></tr>\n",
       "</table>\n"
      ],
      "text/plain": [
       "+------+--------------+----------+----------+--------------+-----------+---------------+---------+-------------+---------------+----------+-----------+------+---------------+---------------+------------+--------------------+--------+\n",
       "|Row ID|      Order ID|Order Date| Ship Date|     Ship Mode|Customer ID|  Customer Name|  Segment|      Country|           City|     State|Postal Code|Region|     Product ID|       Category|Sub-Category|        Product Name|   Sales|\n",
       "+------+--------------+----------+----------+--------------+-----------+---------------+---------+-------------+---------------+----------+-----------+------+---------------+---------------+------------+--------------------+--------+\n",
       "|     1|CA-2017-152156|08/11/2017|11/11/2017|  Second Class|   CG-12520|    Claire Gute| Consumer|United States|      Henderson|  Kentucky|    42420.0| South|FUR-BO-10001798|      Furniture|   Bookcases|Bush Somerset Col...|  261.96|\n",
       "|     2|CA-2017-152156|08/11/2017|11/11/2017|  Second Class|   CG-12520|    Claire Gute| Consumer|United States|      Henderson|  Kentucky|    42420.0| South|FUR-CH-10000454|      Furniture|      Chairs|Hon Deluxe Fabric...|  731.94|\n",
       "|     3|CA-2017-138688|12/06/2017|16/06/2017|  Second Class|   DV-13045|Darrin Van Huff|Corporate|United States|    Los Angeles|California|    90036.0|  West|OFF-LA-10000240|Office Supplies|      Labels|Self-Adhesive Add...|   14.62|\n",
       "|     4|US-2016-108966|11/10/2016|18/10/2016|Standard Class|   SO-20335| Sean O'Donnell| Consumer|United States|Fort Lauderdale|   Florida|    33311.0| South|FUR-TA-10000577|      Furniture|      Tables|Bretford CR4500 S...|957.5775|\n",
       "|     5|US-2016-108966|11/10/2016|18/10/2016|Standard Class|   SO-20335| Sean O'Donnell| Consumer|United States|Fort Lauderdale|   Florida|    33311.0| South|OFF-ST-10000760|Office Supplies|     Storage|Eldon Fold 'N Rol...|  22.368|\n",
       "+------+--------------+----------+----------+--------------+-----------+---------------+---------+-------------+---------------+----------+-----------+------+---------------+---------------+------------+--------------------+--------+"
      ]
     },
     "metadata": {},
     "output_type": "display_data"
    }
   ],
   "source": [
    "display(sdf.limit(5))"
   ]
  },
  {
   "cell_type": "code",
   "execution_count": null,
   "id": "38c708cd-0a1d-47bb-95c4-22be61f16102",
   "metadata": {},
   "outputs": [],
   "source": [
    "def configure_spark_session():\n",
    "    spark = SparkSession \\\n",
    "    .builder \\\n",
    "    .appName(\"Getting Started\") \\\n",
    "    .getOrCreate()\n",
    "    spark.conf.set('spark.sql.repl.eagerEval.enabled', True)\n",
    "    return spark\n",
    "\n",
    "def get_superstore_sales_sdf():\n",
    "    df = pd.read_csv('../data/train.csv')\n",
    "    sdf = spark.createDataFrame(df)\n",
    "    return sdf"
   ]
  }
 ],
 "metadata": {
  "kernelspec": {
   "display_name": "Python 3 (ipykernel)",
   "language": "python",
   "name": "python3"
  },
  "language_info": {
   "codemirror_mode": {
    "name": "ipython",
    "version": 3
   },
   "file_extension": ".py",
   "mimetype": "text/x-python",
   "name": "python",
   "nbconvert_exporter": "python",
   "pygments_lexer": "ipython3",
   "version": "3.11.7"
  }
 },
 "nbformat": 4,
 "nbformat_minor": 5
}
